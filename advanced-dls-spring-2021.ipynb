{
 "cells": [
  {
   "cell_type": "code",
   "execution_count": 283,
   "id": "ded7cd00",
   "metadata": {},
   "outputs": [],
   "source": [
    "import numpy as np\n",
    "import pandas as pd\n",
    "import time\n",
    "import re\n",
    "import os\n",
    "import copy\n",
    "import pickle\n",
    "\n",
    "from sklearn.svm import SVC\n",
    "from sklearn.ensemble import RandomForestClassifier\n",
    "from sklearn.linear_model import LogisticRegression\n",
    "from sklearn.model_selection import train_test_split, KFold, ParameterGrid, cross_val_score, learning_curve, GridSearchCV\n",
    "from sklearn.feature_extraction.text import CountVectorizer\n",
    "from sklearn.pipeline import Pipeline\n",
    "from sklearn.preprocessing import OneHotEncoder, StandardScaler\n",
    "from sklearn.compose import ColumnTransformer\n",
    "\n",
    "from xgboost import XGBClassifier\n",
    "\n",
    "import torch\n",
    "import torch.nn as nn\n",
    "import torch.nn.functional as F\n",
    "import torch.optim as optim\n",
    "from torch.utils.data import DataLoader, Dataset, random_split\n",
    "from torch.hub import load_state_dict_from_url\n",
    "\n",
    "from tqdm.notebook import tqdm\n",
    "from IPython.display import clear_output\n",
    "import matplotlib.pyplot as plt"
   ]
  },
  {
   "cell_type": "code",
   "execution_count": 379,
   "id": "dcb4ebca",
   "metadata": {},
   "outputs": [],
   "source": [
    "files_path = r'C:\\Users\\kirill\\Documents\\PythonScripts\\advanced-dls-spring-2021'"
   ]
  },
  {
   "cell_type": "code",
   "execution_count": 388,
   "id": "6d8ad8b1",
   "metadata": {},
   "outputs": [],
   "source": [
    "def write_result(model, x, file_name, files_path=files_path):\n",
    "    prediction = model.predict(x)\n",
    "    result = pd.DataFrame(prediction, index=list(range(1761)), columns=['Churn'])\n",
    "#     result['Churn'] = result['Churn']\n",
    "    result.to_csv(f'{files_path}{os.sep}{file_name}.csv', sep=',', index = True, index_label='Id')"
   ]
  },
  {
   "cell_type": "code",
   "execution_count": 366,
   "id": "45133632",
   "metadata": {},
   "outputs": [
    {
     "data": {
      "text/plain": [
       "array([   0,    1,    2, ..., 1758, 1759, 1760], dtype=int64)"
      ]
     },
     "execution_count": 366,
     "metadata": {},
     "output_type": "execute_result"
    }
   ],
   "source": [
    "df_test.index.values"
   ]
  },
  {
   "cell_type": "code",
   "execution_count": 355,
   "id": "49613872",
   "metadata": {},
   "outputs": [
    {
     "data": {
      "text/html": [
       "<div>\n",
       "<style scoped>\n",
       "    .dataframe tbody tr th:only-of-type {\n",
       "        vertical-align: middle;\n",
       "    }\n",
       "\n",
       "    .dataframe tbody tr th {\n",
       "        vertical-align: top;\n",
       "    }\n",
       "\n",
       "    .dataframe thead th {\n",
       "        text-align: right;\n",
       "    }\n",
       "</style>\n",
       "<table border=\"1\" class=\"dataframe\">\n",
       "  <thead>\n",
       "    <tr style=\"text-align: right;\">\n",
       "      <th></th>\n",
       "      <th>ClientPeriod</th>\n",
       "      <th>MonthlySpending</th>\n",
       "      <th>TotalSpent</th>\n",
       "      <th>Sex</th>\n",
       "      <th>IsSeniorCitizen</th>\n",
       "      <th>HasPartner</th>\n",
       "      <th>HasChild</th>\n",
       "      <th>HasPhoneService</th>\n",
       "      <th>HasMultiplePhoneNumbers</th>\n",
       "      <th>HasInternetService</th>\n",
       "      <th>HasOnlineSecurityService</th>\n",
       "      <th>HasOnlineBackup</th>\n",
       "      <th>HasDeviceProtection</th>\n",
       "      <th>HasTechSupportAccess</th>\n",
       "      <th>HasOnlineTV</th>\n",
       "      <th>HasMovieSubscription</th>\n",
       "      <th>HasContractPhone</th>\n",
       "      <th>IsBillingPaperless</th>\n",
       "      <th>PaymentMethod</th>\n",
       "      <th>Churn</th>\n",
       "    </tr>\n",
       "  </thead>\n",
       "  <tbody>\n",
       "    <tr>\n",
       "      <th>0</th>\n",
       "      <td>55</td>\n",
       "      <td>19.50</td>\n",
       "      <td>1026.35</td>\n",
       "      <td>Male</td>\n",
       "      <td>0</td>\n",
       "      <td>Yes</td>\n",
       "      <td>Yes</td>\n",
       "      <td>Yes</td>\n",
       "      <td>No</td>\n",
       "      <td>No</td>\n",
       "      <td>No internet service</td>\n",
       "      <td>No internet service</td>\n",
       "      <td>No internet service</td>\n",
       "      <td>No internet service</td>\n",
       "      <td>No internet service</td>\n",
       "      <td>No internet service</td>\n",
       "      <td>One year</td>\n",
       "      <td>No</td>\n",
       "      <td>Mailed check</td>\n",
       "      <td>0</td>\n",
       "    </tr>\n",
       "    <tr>\n",
       "      <th>1</th>\n",
       "      <td>72</td>\n",
       "      <td>25.85</td>\n",
       "      <td>1872.2</td>\n",
       "      <td>Male</td>\n",
       "      <td>0</td>\n",
       "      <td>Yes</td>\n",
       "      <td>No</td>\n",
       "      <td>Yes</td>\n",
       "      <td>Yes</td>\n",
       "      <td>No</td>\n",
       "      <td>No internet service</td>\n",
       "      <td>No internet service</td>\n",
       "      <td>No internet service</td>\n",
       "      <td>No internet service</td>\n",
       "      <td>No internet service</td>\n",
       "      <td>No internet service</td>\n",
       "      <td>Two year</td>\n",
       "      <td>No</td>\n",
       "      <td>Credit card (automatic)</td>\n",
       "      <td>0</td>\n",
       "    </tr>\n",
       "    <tr>\n",
       "      <th>2</th>\n",
       "      <td>1</td>\n",
       "      <td>75.90</td>\n",
       "      <td>75.9</td>\n",
       "      <td>Male</td>\n",
       "      <td>0</td>\n",
       "      <td>No</td>\n",
       "      <td>No</td>\n",
       "      <td>Yes</td>\n",
       "      <td>No</td>\n",
       "      <td>Fiber optic</td>\n",
       "      <td>No</td>\n",
       "      <td>No</td>\n",
       "      <td>No</td>\n",
       "      <td>Yes</td>\n",
       "      <td>No</td>\n",
       "      <td>No</td>\n",
       "      <td>Month-to-month</td>\n",
       "      <td>Yes</td>\n",
       "      <td>Electronic check</td>\n",
       "      <td>1</td>\n",
       "    </tr>\n",
       "    <tr>\n",
       "      <th>3</th>\n",
       "      <td>32</td>\n",
       "      <td>79.30</td>\n",
       "      <td>2570</td>\n",
       "      <td>Female</td>\n",
       "      <td>1</td>\n",
       "      <td>Yes</td>\n",
       "      <td>No</td>\n",
       "      <td>Yes</td>\n",
       "      <td>Yes</td>\n",
       "      <td>Fiber optic</td>\n",
       "      <td>No</td>\n",
       "      <td>No</td>\n",
       "      <td>Yes</td>\n",
       "      <td>No</td>\n",
       "      <td>No</td>\n",
       "      <td>No</td>\n",
       "      <td>Month-to-month</td>\n",
       "      <td>No</td>\n",
       "      <td>Mailed check</td>\n",
       "      <td>0</td>\n",
       "    </tr>\n",
       "    <tr>\n",
       "      <th>4</th>\n",
       "      <td>60</td>\n",
       "      <td>115.25</td>\n",
       "      <td>6758.45</td>\n",
       "      <td>Female</td>\n",
       "      <td>0</td>\n",
       "      <td>Yes</td>\n",
       "      <td>Yes</td>\n",
       "      <td>Yes</td>\n",
       "      <td>Yes</td>\n",
       "      <td>Fiber optic</td>\n",
       "      <td>Yes</td>\n",
       "      <td>Yes</td>\n",
       "      <td>Yes</td>\n",
       "      <td>Yes</td>\n",
       "      <td>Yes</td>\n",
       "      <td>Yes</td>\n",
       "      <td>Two year</td>\n",
       "      <td>No</td>\n",
       "      <td>Credit card (automatic)</td>\n",
       "      <td>0</td>\n",
       "    </tr>\n",
       "    <tr>\n",
       "      <th>...</th>\n",
       "      <td>...</td>\n",
       "      <td>...</td>\n",
       "      <td>...</td>\n",
       "      <td>...</td>\n",
       "      <td>...</td>\n",
       "      <td>...</td>\n",
       "      <td>...</td>\n",
       "      <td>...</td>\n",
       "      <td>...</td>\n",
       "      <td>...</td>\n",
       "      <td>...</td>\n",
       "      <td>...</td>\n",
       "      <td>...</td>\n",
       "      <td>...</td>\n",
       "      <td>...</td>\n",
       "      <td>...</td>\n",
       "      <td>...</td>\n",
       "      <td>...</td>\n",
       "      <td>...</td>\n",
       "      <td>...</td>\n",
       "    </tr>\n",
       "    <tr>\n",
       "      <th>5277</th>\n",
       "      <td>3</td>\n",
       "      <td>30.40</td>\n",
       "      <td>82.15</td>\n",
       "      <td>Male</td>\n",
       "      <td>0</td>\n",
       "      <td>No</td>\n",
       "      <td>No</td>\n",
       "      <td>No</td>\n",
       "      <td>No phone service</td>\n",
       "      <td>DSL</td>\n",
       "      <td>No</td>\n",
       "      <td>No</td>\n",
       "      <td>No</td>\n",
       "      <td>Yes</td>\n",
       "      <td>No</td>\n",
       "      <td>No</td>\n",
       "      <td>Month-to-month</td>\n",
       "      <td>No</td>\n",
       "      <td>Electronic check</td>\n",
       "      <td>0</td>\n",
       "    </tr>\n",
       "    <tr>\n",
       "      <th>5278</th>\n",
       "      <td>50</td>\n",
       "      <td>44.45</td>\n",
       "      <td>2188.45</td>\n",
       "      <td>Male</td>\n",
       "      <td>0</td>\n",
       "      <td>Yes</td>\n",
       "      <td>No</td>\n",
       "      <td>No</td>\n",
       "      <td>No phone service</td>\n",
       "      <td>DSL</td>\n",
       "      <td>Yes</td>\n",
       "      <td>No</td>\n",
       "      <td>No</td>\n",
       "      <td>Yes</td>\n",
       "      <td>Yes</td>\n",
       "      <td>No</td>\n",
       "      <td>One year</td>\n",
       "      <td>Yes</td>\n",
       "      <td>Bank transfer (automatic)</td>\n",
       "      <td>0</td>\n",
       "    </tr>\n",
       "    <tr>\n",
       "      <th>5279</th>\n",
       "      <td>1</td>\n",
       "      <td>55.05</td>\n",
       "      <td>55.05</td>\n",
       "      <td>Male</td>\n",
       "      <td>0</td>\n",
       "      <td>No</td>\n",
       "      <td>No</td>\n",
       "      <td>Yes</td>\n",
       "      <td>No</td>\n",
       "      <td>DSL</td>\n",
       "      <td>No</td>\n",
       "      <td>No</td>\n",
       "      <td>Yes</td>\n",
       "      <td>Yes</td>\n",
       "      <td>No</td>\n",
       "      <td>No</td>\n",
       "      <td>Month-to-month</td>\n",
       "      <td>No</td>\n",
       "      <td>Mailed check</td>\n",
       "      <td>0</td>\n",
       "    </tr>\n",
       "    <tr>\n",
       "      <th>5280</th>\n",
       "      <td>29</td>\n",
       "      <td>76.00</td>\n",
       "      <td>2215.25</td>\n",
       "      <td>Female</td>\n",
       "      <td>0</td>\n",
       "      <td>No</td>\n",
       "      <td>No</td>\n",
       "      <td>Yes</td>\n",
       "      <td>Yes</td>\n",
       "      <td>Fiber optic</td>\n",
       "      <td>No</td>\n",
       "      <td>No</td>\n",
       "      <td>No</td>\n",
       "      <td>No</td>\n",
       "      <td>No</td>\n",
       "      <td>No</td>\n",
       "      <td>Month-to-month</td>\n",
       "      <td>Yes</td>\n",
       "      <td>Credit card (automatic)</td>\n",
       "      <td>0</td>\n",
       "    </tr>\n",
       "    <tr>\n",
       "      <th>5281</th>\n",
       "      <td>19</td>\n",
       "      <td>75.90</td>\n",
       "      <td>1375.6</td>\n",
       "      <td>Female</td>\n",
       "      <td>0</td>\n",
       "      <td>No</td>\n",
       "      <td>Yes</td>\n",
       "      <td>Yes</td>\n",
       "      <td>Yes</td>\n",
       "      <td>DSL</td>\n",
       "      <td>Yes</td>\n",
       "      <td>Yes</td>\n",
       "      <td>No</td>\n",
       "      <td>Yes</td>\n",
       "      <td>Yes</td>\n",
       "      <td>No</td>\n",
       "      <td>Month-to-month</td>\n",
       "      <td>Yes</td>\n",
       "      <td>Mailed check</td>\n",
       "      <td>0</td>\n",
       "    </tr>\n",
       "  </tbody>\n",
       "</table>\n",
       "<p>5282 rows × 20 columns</p>\n",
       "</div>"
      ],
      "text/plain": [
       "      ClientPeriod  MonthlySpending TotalSpent     Sex  IsSeniorCitizen  \\\n",
       "0               55            19.50    1026.35    Male                0   \n",
       "1               72            25.85     1872.2    Male                0   \n",
       "2                1            75.90       75.9    Male                0   \n",
       "3               32            79.30       2570  Female                1   \n",
       "4               60           115.25    6758.45  Female                0   \n",
       "...            ...              ...        ...     ...              ...   \n",
       "5277             3            30.40      82.15    Male                0   \n",
       "5278            50            44.45    2188.45    Male                0   \n",
       "5279             1            55.05      55.05    Male                0   \n",
       "5280            29            76.00    2215.25  Female                0   \n",
       "5281            19            75.90     1375.6  Female                0   \n",
       "\n",
       "     HasPartner HasChild HasPhoneService HasMultiplePhoneNumbers  \\\n",
       "0           Yes      Yes             Yes                      No   \n",
       "1           Yes       No             Yes                     Yes   \n",
       "2            No       No             Yes                      No   \n",
       "3           Yes       No             Yes                     Yes   \n",
       "4           Yes      Yes             Yes                     Yes   \n",
       "...         ...      ...             ...                     ...   \n",
       "5277         No       No              No        No phone service   \n",
       "5278        Yes       No              No        No phone service   \n",
       "5279         No       No             Yes                      No   \n",
       "5280         No       No             Yes                     Yes   \n",
       "5281         No      Yes             Yes                     Yes   \n",
       "\n",
       "     HasInternetService HasOnlineSecurityService      HasOnlineBackup  \\\n",
       "0                    No      No internet service  No internet service   \n",
       "1                    No      No internet service  No internet service   \n",
       "2           Fiber optic                       No                   No   \n",
       "3           Fiber optic                       No                   No   \n",
       "4           Fiber optic                      Yes                  Yes   \n",
       "...                 ...                      ...                  ...   \n",
       "5277                DSL                       No                   No   \n",
       "5278                DSL                      Yes                   No   \n",
       "5279                DSL                       No                   No   \n",
       "5280        Fiber optic                       No                   No   \n",
       "5281                DSL                      Yes                  Yes   \n",
       "\n",
       "      HasDeviceProtection HasTechSupportAccess          HasOnlineTV  \\\n",
       "0     No internet service  No internet service  No internet service   \n",
       "1     No internet service  No internet service  No internet service   \n",
       "2                      No                  Yes                   No   \n",
       "3                     Yes                   No                   No   \n",
       "4                     Yes                  Yes                  Yes   \n",
       "...                   ...                  ...                  ...   \n",
       "5277                   No                  Yes                   No   \n",
       "5278                   No                  Yes                  Yes   \n",
       "5279                  Yes                  Yes                   No   \n",
       "5280                   No                   No                   No   \n",
       "5281                   No                  Yes                  Yes   \n",
       "\n",
       "     HasMovieSubscription HasContractPhone IsBillingPaperless  \\\n",
       "0     No internet service         One year                 No   \n",
       "1     No internet service         Two year                 No   \n",
       "2                      No   Month-to-month                Yes   \n",
       "3                      No   Month-to-month                 No   \n",
       "4                     Yes         Two year                 No   \n",
       "...                   ...              ...                ...   \n",
       "5277                   No   Month-to-month                 No   \n",
       "5278                   No         One year                Yes   \n",
       "5279                   No   Month-to-month                 No   \n",
       "5280                   No   Month-to-month                Yes   \n",
       "5281                   No   Month-to-month                Yes   \n",
       "\n",
       "                  PaymentMethod  Churn  \n",
       "0                  Mailed check      0  \n",
       "1       Credit card (automatic)      0  \n",
       "2              Electronic check      1  \n",
       "3                  Mailed check      0  \n",
       "4       Credit card (automatic)      0  \n",
       "...                         ...    ...  \n",
       "5277           Electronic check      0  \n",
       "5278  Bank transfer (automatic)      0  \n",
       "5279               Mailed check      0  \n",
       "5280    Credit card (automatic)      0  \n",
       "5281               Mailed check      0  \n",
       "\n",
       "[5282 rows x 20 columns]"
      ]
     },
     "execution_count": 355,
     "metadata": {},
     "output_type": "execute_result"
    }
   ],
   "source": [
    "df_train = pd.read_csv(files_path+os.path.sep+'train.csv')\n",
    "df_test = pd.read_csv(files_path+os.path.sep+'test.csv')\n",
    "df_train"
   ]
  },
  {
   "cell_type": "code",
   "execution_count": 356,
   "id": "6ea2c772",
   "metadata": {},
   "outputs": [
    {
     "data": {
      "text/plain": [
       "0    3898\n",
       "1    1384\n",
       "Name: Churn, dtype: int64"
      ]
     },
     "execution_count": 356,
     "metadata": {},
     "output_type": "execute_result"
    }
   ],
   "source": [
    "df_train['Churn'].value_counts()"
   ]
  },
  {
   "cell_type": "code",
   "execution_count": 360,
   "id": "7cb4dd00",
   "metadata": {},
   "outputs": [
    {
     "data": {
      "text/plain": [
       "Index(['ClientPeriod', 'MonthlySpending', 'TotalSpent', 'Sex',\n",
       "       'IsSeniorCitizen', 'HasPartner', 'HasChild', 'HasPhoneService',\n",
       "       'HasMultiplePhoneNumbers', 'HasInternetService',\n",
       "       'HasOnlineSecurityService', 'HasOnlineBackup', 'HasDeviceProtection',\n",
       "       'HasTechSupportAccess', 'HasOnlineTV', 'HasMovieSubscription',\n",
       "       'HasContractPhone', 'IsBillingPaperless', 'PaymentMethod', 'Churn'],\n",
       "      dtype='object')"
      ]
     },
     "execution_count": 360,
     "metadata": {},
     "output_type": "execute_result"
    }
   ],
   "source": [
    "df_train.columns"
   ]
  },
  {
   "cell_type": "code",
   "execution_count": 361,
   "id": "a3635b8a",
   "metadata": {},
   "outputs": [],
   "source": [
    "#fillna\n",
    "df_train['TotalSpent'] = df_train['TotalSpent'].map(lambda x: x.replace(' ', '0'))\n",
    "df_train['TotalSpent'] = df_train['TotalSpent'].astype('float')\n",
    "df_test['TotalSpent'] = df_test['TotalSpent'].map(lambda x: x.replace(' ', '0'))\n",
    "df_test['TotalSpent'] = df_test['TotalSpent'].astype('float')"
   ]
  },
  {
   "cell_type": "code",
   "execution_count": 362,
   "id": "a9f6fc48",
   "metadata": {},
   "outputs": [],
   "source": [
    "x_train = df_train.values[:, :-1]\n",
    "y_train = df_train.values[:, -1].reshape(-1, 1).astype(np.int64)\n",
    "x_test = df_test.values[:, :]"
   ]
  },
  {
   "cell_type": "code",
   "execution_count": 227,
   "id": "35864e60",
   "metadata": {},
   "outputs": [],
   "source": [
    "categorial_features = ['ClientPeriod', 'Sex',\n",
    "       'IsSeniorCitizen', 'HasPartner', 'HasChild', 'HasPhoneService',\n",
    "       'HasMultiplePhoneNumbers', 'HasInternetService',\n",
    "       'HasOnlineSecurityService', 'HasOnlineBackup', 'HasDeviceProtection',\n",
    "       'HasTechSupportAccess', 'HasOnlineTV', 'HasMovieSubscription',\n",
    "       'HasContractPhone', 'IsBillingPaperless', 'PaymentMethod']\n",
    "categorial_features = df_train.columns.get_indexer(categorial_features)\n",
    "\n",
    "numerical_features = ['MonthlySpending', 'TotalSpent']\n",
    "numerical_features = df_train.columns.get_indexer(numerical_features)"
   ]
  },
  {
   "cell_type": "code",
   "execution_count": 228,
   "id": "d8b19699",
   "metadata": {},
   "outputs": [],
   "source": [
    "cat_transformer = OneHotEncoder(sparse=False)\n",
    "num_transformer = StandardScaler()\n",
    "\n",
    "ct = ColumnTransformer([\n",
    "    ('cat', cat_transformer, categorial_features),\n",
    "    ('num', num_transformer, numerical_features)\n",
    "])"
   ]
  },
  {
   "cell_type": "code",
   "execution_count": 235,
   "id": "bdd3d8f4",
   "metadata": {},
   "outputs": [
    {
     "name": "stderr",
     "output_type": "stream",
     "text": [
      "C:\\Users\\kirill\\anaconda3\\lib\\site-packages\\sklearn\\linear_model\\_sag.py:352: ConvergenceWarning: The max_iter was reached which means the coef_ did not converge\n",
      "  warnings.warn(\n"
     ]
    },
    {
     "data": {
      "text/plain": [
       "0.810109806891329"
      ]
     },
     "execution_count": 235,
     "metadata": {},
     "output_type": "execute_result"
    }
   ],
   "source": [
    "#test\n",
    "ct.fit_transform(x_train).shape\n",
    "model = LogisticRegression(solver='saga')\n",
    "model.fit(ct.fit_transform(x_train), y_train.ravel())\n",
    "np.mean(model.predict(ct.fit_transform(x_train))==y_train.ravel())"
   ]
  },
  {
   "cell_type": "code",
   "execution_count": 236,
   "id": "6e79264f",
   "metadata": {},
   "outputs": [],
   "source": [
    "pipeline = Pipeline([\n",
    "    ('transformer', ct),\n",
    "    ('classifier', LogisticRegression(solver='saga'))\n",
    "])\n",
    "cv = KFold(n_splits=3, random_state=42, shuffle=True)\n",
    "param_grid = [\n",
    "    {\n",
    "    'classifier__penalty': ['l2', 'l1'],\n",
    "    'classifier__C': [0.001, 0.01, 0.1, 0.2, 0.5, 1],},\n",
    "\n",
    "]\n",
    "search = GridSearchCV(pipeline, param_grid, cv=cv, n_jobs=-2, verbose=3)"
   ]
  },
  {
   "cell_type": "code",
   "execution_count": 239,
   "id": "bf2855bb",
   "metadata": {},
   "outputs": [
    {
     "name": "stdout",
     "output_type": "stream",
     "text": [
      "Fitting 3 folds for each of 12 candidates, totalling 36 fits\n"
     ]
    }
   ],
   "source": [
    "_ = search.fit(x_train, y_train.reshape(-1))"
   ]
  },
  {
   "cell_type": "code",
   "execution_count": 240,
   "id": "1902db5e",
   "metadata": {},
   "outputs": [
    {
     "data": {
      "text/plain": [
       "(0.8048100252955449, {'classifier__C': 0.1, 'classifier__penalty': 'l1'})"
      ]
     },
     "execution_count": 240,
     "metadata": {},
     "output_type": "execute_result"
    }
   ],
   "source": [
    "search.best_score_, search.best_params_"
   ]
  },
  {
   "cell_type": "markdown",
   "id": "cc24b869",
   "metadata": {},
   "source": [
    "# Default SVC"
   ]
  },
  {
   "cell_type": "code",
   "execution_count": 245,
   "id": "ac9296f2",
   "metadata": {},
   "outputs": [],
   "source": [
    "pipeline = Pipeline([\n",
    "    ('transformer', ct),\n",
    "    ('classifier', SVC())\n",
    "])\n",
    "cv = KFold(n_splits=5, random_state=42, shuffle=True)\n",
    "param_grid = {\n",
    "    'classifier__C': list(np.arange(0.1, 2, 0.2)),\n",
    "}\n",
    "search = GridSearchCV(pipeline, param_grid, cv=cv, n_jobs=-1, verbose=3)"
   ]
  },
  {
   "cell_type": "code",
   "execution_count": 246,
   "id": "fd0bf951",
   "metadata": {},
   "outputs": [
    {
     "name": "stdout",
     "output_type": "stream",
     "text": [
      "Fitting 5 folds for each of 10 candidates, totalling 50 fits\n"
     ]
    }
   ],
   "source": [
    "_ = search.fit(x_train, y_train.reshape(-1))"
   ]
  },
  {
   "cell_type": "code",
   "execution_count": 247,
   "id": "82ee065e",
   "metadata": {},
   "outputs": [
    {
     "data": {
      "text/plain": [
       "(0.8021605601903616, {'classifier__C': 0.7000000000000001})"
      ]
     },
     "execution_count": 247,
     "metadata": {},
     "output_type": "execute_result"
    }
   ],
   "source": [
    "search.best_score_, search.best_params_"
   ]
  },
  {
   "cell_type": "markdown",
   "id": "0d895b35",
   "metadata": {},
   "source": [
    "# SVC"
   ]
  },
  {
   "cell_type": "code",
   "execution_count": 259,
   "id": "347756c0",
   "metadata": {},
   "outputs": [],
   "source": [
    "np.random.seed(42)\n",
    "pipeline = Pipeline([\n",
    "    ('transformer', ct),\n",
    "    ('classifier', SVC())\n",
    "])\n",
    "cv = KFold(n_splits=5, random_state=42, shuffle=True)\n",
    "param_grid = [\n",
    "    {\n",
    "    'classifier__kernel': ['poly'],\n",
    "    'classifier__C': np.arange(0.1, 1, 0.2),\n",
    "    'classifier__degree': np.arange(2, 8), \n",
    "    'classifier__gamma': np.arange(0.001, 0.01, 0.002),},\n",
    "]\n",
    "search = GridSearchCV(pipeline, param_grid, cv=cv, n_jobs=-2, verbose=3)"
   ]
  },
  {
   "cell_type": "code",
   "execution_count": 260,
   "id": "1a80288a",
   "metadata": {},
   "outputs": [
    {
     "name": "stdout",
     "output_type": "stream",
     "text": [
      "Fitting 5 folds for each of 150 candidates, totalling 750 fits\n"
     ]
    }
   ],
   "source": [
    "_ = search.fit(x_train, y_train.reshape(-1))"
   ]
  },
  {
   "cell_type": "code",
   "execution_count": 261,
   "id": "8c8bc304",
   "metadata": {},
   "outputs": [
    {
     "data": {
      "text/plain": [
       "(0.7716733321865772,\n",
       " {'classifier__C': 0.9000000000000001,\n",
       "  'classifier__degree': 2,\n",
       "  'classifier__gamma': 0.009000000000000001,\n",
       "  'classifier__kernel': 'poly'})"
      ]
     },
     "execution_count": 261,
     "metadata": {},
     "output_type": "execute_result"
    }
   ],
   "source": [
    "search.best_score_, search.best_params_"
   ]
  },
  {
   "cell_type": "code",
   "execution_count": 262,
   "id": "ec909213",
   "metadata": {},
   "outputs": [],
   "source": [
    "np.random.seed(42)\n",
    "pipeline = Pipeline([\n",
    "    ('transformer', ct),\n",
    "    ('classifier', SVC())\n",
    "])\n",
    "cv = KFold(n_splits=5, random_state=42, shuffle=True)\n",
    "param_grid = [\n",
    "    {\n",
    "    'classifier__kernel': ['rbf'],\n",
    "    'classifier__C': np.arange(0.1, 2, 0.2),\n",
    "    'classifier__gamma': np.arange(0.001, 0.02, 0.002),},\n",
    "]\n",
    "search = GridSearchCV(pipeline, param_grid, cv=cv, n_jobs=-2, verbose=3)"
   ]
  },
  {
   "cell_type": "code",
   "execution_count": 263,
   "id": "ee8da35d",
   "metadata": {},
   "outputs": [
    {
     "name": "stdout",
     "output_type": "stream",
     "text": [
      "Fitting 5 folds for each of 100 candidates, totalling 500 fits\n"
     ]
    }
   ],
   "source": [
    "_ = search.fit(x_train, y_train.reshape(-1))"
   ]
  },
  {
   "cell_type": "code",
   "execution_count": 264,
   "id": "0d806140",
   "metadata": {},
   "outputs": [
    {
     "data": {
      "text/plain": [
       "(0.8044334666437315,\n",
       " {'classifier__C': 1.5000000000000004,\n",
       "  'classifier__gamma': 0.005,\n",
       "  'classifier__kernel': 'rbf'})"
      ]
     },
     "execution_count": 264,
     "metadata": {},
     "output_type": "execute_result"
    }
   ],
   "source": [
    "search.best_score_, search.best_params_"
   ]
  },
  {
   "cell_type": "code",
   "execution_count": 265,
   "id": "4b6c4284",
   "metadata": {},
   "outputs": [],
   "source": [
    "np.random.seed(42)\n",
    "pipeline = Pipeline([\n",
    "    ('transformer', ct),\n",
    "    ('classifier', SVC())\n",
    "])\n",
    "cv = KFold(n_splits=5, random_state=42, shuffle=True)\n",
    "param_grid = [\n",
    "    {\n",
    "    'classifier__kernel': ['sigmoid'],\n",
    "    'classifier__C': np.arange(0.1, 2, 0.2),\n",
    "    'classifier__gamma': np.arange(0.001, 0.02, 0.003),},\n",
    "]\n",
    "search = GridSearchCV(pipeline, param_grid, cv=cv, n_jobs=-2, verbose=3)"
   ]
  },
  {
   "cell_type": "code",
   "execution_count": 266,
   "id": "d8dfb285",
   "metadata": {},
   "outputs": [
    {
     "name": "stdout",
     "output_type": "stream",
     "text": [
      "Fitting 5 folds for each of 70 candidates, totalling 350 fits\n"
     ]
    }
   ],
   "source": [
    "_ = search.fit(x_train, y_train.reshape(-1))"
   ]
  },
  {
   "cell_type": "code",
   "execution_count": 267,
   "id": "0f331bfe",
   "metadata": {},
   "outputs": [
    {
     "data": {
      "text/plain": [
       "(0.8034875720306184,\n",
       " {'classifier__C': 1.3000000000000003,\n",
       "  'classifier__gamma': 0.019000000000000003,\n",
       "  'classifier__kernel': 'sigmoid'})"
      ]
     },
     "execution_count": 267,
     "metadata": {},
     "output_type": "execute_result"
    }
   ],
   "source": [
    "search.best_score_, search.best_params_"
   ]
  },
  {
   "cell_type": "markdown",
   "id": "f22ada08",
   "metadata": {},
   "source": [
    "# Forrest"
   ]
  },
  {
   "cell_type": "code",
   "execution_count": 273,
   "id": "d7cef6e8",
   "metadata": {},
   "outputs": [
    {
     "data": {
      "text/plain": [
       "array([ 50, 100, 150, 200, 250])"
      ]
     },
     "execution_count": 273,
     "metadata": {},
     "output_type": "execute_result"
    }
   ],
   "source": [
    "np.arange(50, 300, 50)"
   ]
  },
  {
   "cell_type": "code",
   "execution_count": 276,
   "id": "558801e0",
   "metadata": {},
   "outputs": [],
   "source": [
    "np.random.seed(42)\n",
    "pipeline = Pipeline([\n",
    "    ('transformer', ct),\n",
    "    ('classifier', RandomForestClassifier())])\n",
    "cv = KFold(n_splits=3, random_state=42, shuffle=True)\n",
    "param_grid = {\n",
    "    'classifier__n_estimators': np.arange(50, 300, 50),\n",
    "    'classifier__max_depth': list(range(4,7)),\n",
    "    'classifier__max_features': list(range(2,8)),\n",
    "    'classifier__criterion': ['gini'],\n",
    "    'classifier__min_samples_split': [2, 3, 4, 5, 6, 7, 8, 9, 10],#2 or 8-10\n",
    "}\n",
    "search = GridSearchCV(pipeline, param_grid, cv=cv, n_jobs=-2, verbose=1)"
   ]
  },
  {
   "cell_type": "code",
   "execution_count": 278,
   "id": "39625e3d",
   "metadata": {},
   "outputs": [
    {
     "name": "stdout",
     "output_type": "stream",
     "text": [
      "Fitting 3 folds for each of 810 candidates, totalling 2430 fits\n"
     ]
    }
   ],
   "source": [
    "_ = search.fit(x_train, y_train.reshape(-1))"
   ]
  },
  {
   "cell_type": "code",
   "execution_count": 279,
   "id": "ad2939d3",
   "metadata": {},
   "outputs": [
    {
     "data": {
      "text/plain": [
       "(0.7904200652177654,\n",
       " {'classifier__criterion': 'gini',\n",
       "  'classifier__max_depth': 6,\n",
       "  'classifier__max_features': 7,\n",
       "  'classifier__min_samples_split': 2,\n",
       "  'classifier__n_estimators': 100})"
      ]
     },
     "execution_count": 279,
     "metadata": {},
     "output_type": "execute_result"
    }
   ],
   "source": [
    "search.best_score_, search.best_params_"
   ]
  },
  {
   "cell_type": "markdown",
   "id": "1caef4a3",
   "metadata": {},
   "source": [
    "# Xgboost"
   ]
  },
  {
   "cell_type": "code",
   "execution_count": 303,
   "id": "3614dc0d",
   "metadata": {},
   "outputs": [],
   "source": [
    "pipeline = Pipeline([\n",
    "    ('transformer', ct),\n",
    "    ('classifier', XGBClassifier(random_state=42, eta=0.1))\n",
    "])\n",
    "cv = KFold(n_splits=3, random_state=42, shuffle=True)\n",
    "param_grid = {\n",
    "    'classifier__n_estimators': [150],\n",
    "    'classifier__gamma': [0.1, 1, 2, 5],\n",
    "    'classifier__min_child_weight': [2],\n",
    "#     'classifier__colsample_by': [0.5, 0.75, 1],\n",
    "    'classifier__lambda': [1, 2, 3],#l2\n",
    "    'classifier__alpha': [2, 5, 10, 20, 50],#l1\n",
    "    \n",
    "}\n",
    "search = GridSearchCV(pipeline, param_grid, cv=cv, n_jobs=10, verbose=1)"
   ]
  },
  {
   "cell_type": "code",
   "execution_count": 304,
   "id": "a442c525",
   "metadata": {},
   "outputs": [
    {
     "name": "stdout",
     "output_type": "stream",
     "text": [
      "Fitting 3 folds for each of 60 candidates, totalling 180 fits\n"
     ]
    }
   ],
   "source": [
    "_ = search.fit(x_train, y_train.reshape(-1))"
   ]
  },
  {
   "cell_type": "code",
   "execution_count": 308,
   "id": "4569dae7",
   "metadata": {},
   "outputs": [
    {
     "data": {
      "text/plain": [
       "dict_items([('classifier__n_estimators', [150]), ('classifier__gamma', [0.1, 1, 2, 5]), ('classifier__min_child_weight', [2]), ('classifier__lambda', [1, 2, 3]), ('classifier__alpha', [2, 5, 10, 20, 50])])"
      ]
     },
     "execution_count": 308,
     "metadata": {},
     "output_type": "execute_result"
    }
   ],
   "source": []
  },
  {
   "cell_type": "code",
   "execution_count": 305,
   "id": "0ff053f2",
   "metadata": {},
   "outputs": [
    {
     "data": {
      "text/plain": [
       "(0.8017815505996936,\n",
       " {'classifier__alpha': 10,\n",
       "  'classifier__gamma': 5,\n",
       "  'classifier__lambda': 1,\n",
       "  'classifier__min_child_weight': 2,\n",
       "  'classifier__n_estimators': 150})"
      ]
     },
     "execution_count": 305,
     "metadata": {},
     "output_type": "execute_result"
    }
   ],
   "source": [
    "search.best_score_, search.best_params_"
   ]
  },
  {
   "cell_type": "code",
   "execution_count": 309,
   "id": "2dbc6c9f",
   "metadata": {},
   "outputs": [
    {
     "data": {
      "text/plain": [
       "dict_items([('classifier__n_estimators', [150]), ('classifier__gamma', [0.1, 1, 2, 5]), ('classifier__min_child_weight', [2]), ('classifier__lambda', [1, 2, 3]), ('classifier__alpha', [2, 5, 10, 20, 50])])"
      ]
     },
     "execution_count": 309,
     "metadata": {},
     "output_type": "execute_result"
    }
   ],
   "source": [
    "param_grid.items()"
   ]
  },
  {
   "cell_type": "markdown",
   "id": "6b6ab8ca",
   "metadata": {},
   "source": [
    "# Final model"
   ]
  },
  {
   "cell_type": "code",
   "execution_count": 384,
   "id": "18604adc",
   "metadata": {},
   "outputs": [],
   "source": [
    "model = XGBClassifier(random_state=42, eta=0.1, n_estimators=200, gamma=5, reg_lambda=2, reg_alpha=10, min_child_weight=2)"
   ]
  },
  {
   "cell_type": "code",
   "execution_count": 385,
   "id": "75d20cac",
   "metadata": {},
   "outputs": [
    {
     "data": {
      "text/plain": [
       "XGBClassifier(base_score=0.5, booster='gbtree', callbacks=None,\n",
       "              colsample_bylevel=1, colsample_bynode=1, colsample_bytree=1,\n",
       "              early_stopping_rounds=None, enable_categorical=False, eta=0.1,\n",
       "              eval_metric=None, feature_types=None, gamma=5, gpu_id=-1,\n",
       "              grow_policy='depthwise', importance_type=None,\n",
       "              interaction_constraints='', learning_rate=0.100000001,\n",
       "              max_bin=256, max_cat_threshold=64, max_cat_to_onehot=4,\n",
       "              max_delta_step=0, max_depth=6, max_leaves=0, min_child_weight=2,\n",
       "              missing=nan, monotone_constraints='()', n_estimators=200,\n",
       "              n_jobs=0, num_parallel_tree=1, predictor='auto', ...)"
      ]
     },
     "execution_count": 385,
     "metadata": {},
     "output_type": "execute_result"
    }
   ],
   "source": [
    "model.fit(ct.fit_transform(x_train), y_train.reshape(-1))"
   ]
  },
  {
   "cell_type": "code",
   "execution_count": 344,
   "id": "6c1322ae",
   "metadata": {},
   "outputs": [
    {
     "data": {
      "text/plain": [
       "0.8148428625520636"
      ]
     },
     "execution_count": 344,
     "metadata": {},
     "output_type": "execute_result"
    }
   ],
   "source": [
    "np.average(model.predict(ct.transform(x_train))==y_train.reshape(-1))"
   ]
  },
  {
   "cell_type": "code",
   "execution_count": 386,
   "id": "100c2ce1",
   "metadata": {},
   "outputs": [
    {
     "data": {
      "text/plain": [
       "array([0, 1, 1, ..., 1, 1, 0])"
      ]
     },
     "execution_count": 386,
     "metadata": {},
     "output_type": "execute_result"
    }
   ],
   "source": [
    "#just test\n",
    "model.predict(ct.transform(x_test))"
   ]
  },
  {
   "cell_type": "code",
   "execution_count": 389,
   "id": "e10df9d7",
   "metadata": {},
   "outputs": [],
   "source": [
    "write_result(model, ct.transform(x_test), 'XGBOOST_result')\n",
    "!kaggle competitions submit -c advanced-dls-spring-2021 -f {files_path}{os.sep}XGBOOST_result.csv -m \"XGBOOST\""
   ]
  },
  {
   "cell_type": "code",
   "execution_count": 395,
   "id": "fa8d146c",
   "metadata": {},
   "outputs": [],
   "source": [
    "#how much give all zeros\n",
    "result = pd.DataFrame(np.zeros(1761), index=list(range(1761)), columns=['Churn'])\n",
    "result.to_csv(f'{files_path}{os.sep}zeros.csv', sep=',', index = True, index_label='Id')\n",
    "!kaggle competitions submit -c advanced-dls-spring-2021 -f {files_path}{os.sep}zeros.csv -m \"zeros\""
   ]
  },
  {
   "cell_type": "code",
   "execution_count": null,
   "id": "38e78f1b",
   "metadata": {},
   "outputs": [],
   "source": []
  }
 ],
 "metadata": {
  "kernelspec": {
   "display_name": "Python 3 (ipykernel)",
   "language": "python",
   "name": "python3"
  },
  "language_info": {
   "codemirror_mode": {
    "name": "ipython",
    "version": 3
   },
   "file_extension": ".py",
   "mimetype": "text/x-python",
   "name": "python",
   "nbconvert_exporter": "python",
   "pygments_lexer": "ipython3",
   "version": "3.9.13"
  }
 },
 "nbformat": 4,
 "nbformat_minor": 5
}
